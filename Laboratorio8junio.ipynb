{
  "nbformat": 4,
  "nbformat_minor": 0,
  "metadata": {
    "colab": {
      "name": "Laboratorio8junio.ipynb",
      "provenance": [],
      "authorship_tag": "ABX9TyNO3OLf8MB8oDIBWPm0/0H3",
      "include_colab_link": true
    },
    "kernelspec": {
      "name": "python3",
      "display_name": "Python 3"
    },
    "language_info": {
      "name": "python"
    }
  },
  "cells": [
    {
      "cell_type": "markdown",
      "metadata": {
        "id": "view-in-github",
        "colab_type": "text"
      },
      "source": [
        "<a href=\"https://colab.research.google.com/github/reshi2998/Python/blob/main/Laboratorio8junio.ipynb\" target=\"_parent\"><img src=\"https://colab.research.google.com/assets/colab-badge.svg\" alt=\"Open In Colab\"/></a>"
      ]
    },
    {
      "cell_type": "code",
      "execution_count": null,
      "metadata": {
        "id": "WczlgPdhAx_k"
      },
      "outputs": [],
      "source": [
        ""
      ]
    },
    {
      "cell_type": "markdown",
      "source": [
        "**Laboratorio inicial de uso de Colab**"
      ],
      "metadata": {
        "id": "5L-ZfIacBUlt"
      }
    },
    {
      "cell_type": "markdown",
      "source": [
        "Josué Víquez Campos"
      ],
      "metadata": {
        "id": "XBraqY1iBZOR"
      }
    },
    {
      "cell_type": "code",
      "source": [
        "import pandas as pd\n",
        "from google.colab import auth\n",
        "auth.authenticate_user()\n",
        "import gspread\n",
        "from google.auth import default\n",
        "creds, _ = default()\n",
        "gc=gspread.authorize(creds)\n",
        "sh=gc.create('Josue Viquez')"
      ],
      "metadata": {
        "id": "g9kP6iA5CIqz"
      },
      "execution_count": 3,
      "outputs": []
    },
    {
      "cell_type": "code",
      "source": [
        "worksheet = gc.open('Josue Viquez').sheet1\n",
        "cell_list = worksheet.range('A1:G14')\n",
        "import random\n",
        "for cell in cell_list:\n",
        "  cell.value = random.randint(1,10)\n",
        "worksheet.update_cells(cell_list)"
      ],
      "metadata": {
        "colab": {
          "base_uri": "https://localhost:8080/"
        },
        "id": "8qCeQBwcErAI",
        "outputId": "54ebe1d5-fbbf-45ed-dcdb-c0d17479944a"
      },
      "execution_count": 4,
      "outputs": [
        {
          "output_type": "execute_result",
          "data": {
            "text/plain": [
              "{'spreadsheetId': '1j8B1r8gxFdiu-DevceDJorqrZzY6x9V9_EFGnKef820',\n",
              " 'updatedCells': 98,\n",
              " 'updatedColumns': 7,\n",
              " 'updatedRange': \"'Hoja 1'!A1:G14\",\n",
              " 'updatedRows': 14}"
            ]
          },
          "metadata": {},
          "execution_count": 4
        }
      ]
    },
    {
      "cell_type": "code",
      "source": [
        "worksheet = gc.open('Josue Viquez').sheet1\n",
        "rows=worksheet.get_all_values()\n",
        "print(rows)"
      ],
      "metadata": {
        "colab": {
          "base_uri": "https://localhost:8080/"
        },
        "id": "bCLm5q2KH_eZ",
        "outputId": "c7202067-f1b6-4965-faaa-6fe598938c42"
      },
      "execution_count": 5,
      "outputs": [
        {
          "output_type": "stream",
          "name": "stdout",
          "text": [
            "[['8', '1', '10', '5', '8', '9', '3'], ['8', '9', '4', '4', '3', '4', '5'], ['1', '6', '10', '8', '10', '4', '6'], ['10', '6', '1', '7', '10', '7', '5'], ['7', '10', '1', '3', '10', '2', '4'], ['5', '8', '1', '7', '10', '6', '4'], ['8', '3', '6', '5', '9', '9', '6'], ['5', '6', '5', '9', '6', '8', '3'], ['5', '4', '8', '6', '1', '5', '8'], ['7', '10', '3', '3', '3', '5', '7'], ['1', '3', '8', '6', '5', '5', '6'], ['6', '7', '9', '10', '6', '10', '1'], ['2', '2', '4', '2', '8', '8', '7'], ['6', '1', '3', '10', '9', '9', '1']]\n"
          ]
        }
      ]
    }
  ]
}